{
 "cells": [
  {
   "cell_type": "markdown",
   "id": "87228887",
   "metadata": {},
   "source": [
    "# linear algebra using python user defined function without using  Numpy linalg"
   ]
  },
  {
   "cell_type": "markdown",
   "id": "b1997887",
   "metadata": {},
   "source": [
    "# Addition"
   ]
  },
  {
   "cell_type": "code",
   "execution_count": 1,
   "id": "fad789d5",
   "metadata": {},
   "outputs": [
    {
     "name": "stdout",
     "output_type": "stream",
     "text": [
      "[10, 10, 10]\n",
      "[10, 10, 10]\n",
      "[10, 10, 10]\n"
     ]
    }
   ],
   "source": [
    "\n",
    "def matrix_addition(matrix1, matrix2):\n",
    "    if len(matrix1) != len(matrix2) or len(matrix1[0]) != len(matrix2[0]):\n",
    "        raise ValueError(\"Matrix dimensions must match for addition\")\n",
    "    \n",
    "    result = []\n",
    "    for i in range(len(matrix1)):\n",
    "        row = []\n",
    "        for j in range(len(matrix1[0])):\n",
    "            row.append(matrix1[i][j] + matrix2[i][j])\n",
    "        result.append(row)\n",
    "    \n",
    "    return result\n",
    "\n",
    "matrix1 = [\n",
    "    [1, 2, 3],\n",
    "    [4, 5, 6],\n",
    "    [7, 8, 9]\n",
    "]\n",
    "\n",
    "matrix2 = [\n",
    "    [9, 8, 7],\n",
    "    [6, 5, 4],\n",
    "    [3, 2, 1]\n",
    "]\n",
    "\n",
    "result_matrix = matrix_addition(matrix1, matrix2)\n",
    "\n",
    "for row in result_matrix:\n",
    "    print(row)\n"
   ]
  },
  {
   "cell_type": "markdown",
   "id": "795a0a94",
   "metadata": {},
   "source": [
    "# substraction"
   ]
  },
  {
   "cell_type": "code",
   "execution_count": 2,
   "id": "1165d61a",
   "metadata": {},
   "outputs": [
    {
     "name": "stdout",
     "output_type": "stream",
     "text": [
      "[-8, -6, -4]\n",
      "[-2, 0, 2]\n",
      "[4, 6, 8]\n"
     ]
    }
   ],
   "source": [
    "def subtract_matrices(matrix1, matrix2):\n",
    "    if len(matrix1) != len(matrix2) or len(matrix1[0]) != len(matrix2[0]):\n",
    "        raise ValueError(\"Matrices must have the same dimensions for subtraction\")\n",
    "\n",
    "    result = []\n",
    "    for i in range(len(matrix1)):\n",
    "        row = []\n",
    "        for j in range(len(matrix1[0])):\n",
    "            row.append(matrix1[i][j] - matrix2[i][j])\n",
    "        result.append(row)\n",
    "\n",
    "    return result\n",
    "\n",
    "matrix1 = [\n",
    "    [1, 2, 3],\n",
    "    [4, 5, 6],\n",
    "    [7, 8, 9]]\n",
    "\n",
    "\n",
    "matrix2 = [\n",
    "    [9, 8, 7],\n",
    "    [6, 5, 4],\n",
    "    [3, 2, 1]]\n",
    "\n",
    "\n",
    "result = subtract_matrices(matrix1, matrix2)\n",
    "\n",
    "for row in result:\n",
    "    print(row)\n"
   ]
  },
  {
   "cell_type": "markdown",
   "id": "fcf34d09",
   "metadata": {},
   "source": [
    "# matrix dot product"
   ]
  },
  {
   "cell_type": "code",
   "execution_count": 3,
   "id": "ed26c48f",
   "metadata": {},
   "outputs": [
    {
     "name": "stdout",
     "output_type": "stream",
     "text": [
      "[30, 24, 18]\n",
      "[84, 69, 54]\n",
      "[138, 114, 90]\n"
     ]
    }
   ],
   "source": [
    "\n",
    "A = [[1, 2, 3],\n",
    "     [4, 5, 6],\n",
    "     [7, 8, 9]]\n",
    "\n",
    "B = [[9, 8, 7],\n",
    "     [6, 5, 4],\n",
    "     [3, 2, 1]]\n",
    "\n",
    "C = [[0, 0, 0],\n",
    "     [0, 0, 0],\n",
    "     [0, 0, 0]]\n",
    "\n",
    "for i in range(len(A)):\n",
    "    for j in range(len(B[0])):\n",
    "        for k in range(len(B)):\n",
    "            C[i][j] += A[i][k] * B[k][j]\n",
    "\n",
    "for row in C:\n",
    "    print(row)\n"
   ]
  },
  {
   "cell_type": "markdown",
   "id": "7ca1905b",
   "metadata": {},
   "source": [
    "# Matrix determinant and Trnspose"
   ]
  },
  {
   "cell_type": "code",
   "execution_count": 7,
   "id": "3e90c1d5",
   "metadata": {},
   "outputs": [],
   "source": [
    "class Matrix:\n",
    "    def __init__(self, data):\n",
    "        self.data = data\n",
    "        self.rows = len(data)\n",
    "        self.cols = len(data[0])\n",
    "\n",
    "    def __str__(self):\n",
    "        return '\\n'.join([' '.join(map(str, row)) for row in self.data])\n",
    "\n",
    "    def __getitem__(self, indices):\n",
    "        i, j = indices\n",
    "        return self.data[i][j]\n",
    "\n",
    "    def __setitem__(self, indices, value):\n",
    "        i, j = indices\n",
    "        self.data[i][j] = value\n",
    "\n",
    "\n",
    "\n",
    "\n",
    "    def determinant(self):\n",
    "        if self.rows != self.cols:\n",
    "            raise ValueError(\"Determinant is only defined for square matrices.\")\n",
    "        if self.rows == 1:\n",
    "            return self[0, 0]\n",
    "        elif self.rows == 2:\n",
    "            return self[0, 0] * self[1, 1] - self[0, 1] * self[1, 0]\n",
    "        else:\n",
    "            det = 0\n",
    "            for j in range(self.cols):\n",
    "                det += (-1) ** j * self[0, j] * self.minor(0, j).determinant()\n",
    "            return det\n",
    "    def minor(self, row, col):\n",
    "        minor_data = [\n",
    "            [self.data[i][j] for j in range(self.cols) if j != col]\n",
    "            for i in range(self.rows) if i != row\n",
    "        ]\n",
    "        return Matrix(minor_data)\n",
    "    \n",
    "\n",
    "    def transpose(self):\n",
    "        transposed_data = [\n",
    "            [self.data[j][i] for j in range(self.rows)]\n",
    "            for i in range(self.cols)\n",
    "        ]\n",
    "        return Matrix(transposed_data)"
   ]
  },
  {
   "cell_type": "code",
   "execution_count": 8,
   "id": "b5b16767",
   "metadata": {},
   "outputs": [
    {
     "name": "stdout",
     "output_type": "stream",
     "text": [
      "Matrix 1:\n",
      "1 2 3\n",
      "4 5 6\n",
      "7 8 9\n",
      "\n",
      "Matrix 2:\n",
      "9 8 7\n",
      "6 5 4\n",
      "3 2 1\n"
     ]
    }
   ],
   "source": [
    "matrix1 = Matrix([[1, 2, 3], [4, 5, 6], [7, 8, 9]])\n",
    "matrix2 = Matrix([[9, 8, 7], [6, 5, 4], [3, 2, 1]])\n",
    "\n",
    "print(\"Matrix 1:\")\n",
    "print(matrix1)\n",
    "\n",
    "print(\"\\nMatrix 2:\")\n",
    "print(matrix2)"
   ]
  },
  {
   "cell_type": "code",
   "execution_count": 9,
   "id": "7b4f9ecb",
   "metadata": {},
   "outputs": [
    {
     "name": "stdout",
     "output_type": "stream",
     "text": [
      "\n",
      "Determinant of Matrix 1: 0\n",
      "\n",
      "Determinant of Matrix 2: 0\n",
      "\n",
      "Transpose of Matrix 1:\n",
      "1 4 7\n",
      "2 5 8\n",
      "3 6 9\n",
      "\n",
      "Transpose of Matrix 2:\n",
      "9 6 3\n",
      "8 5 2\n",
      "7 4 1\n"
     ]
    }
   ],
   "source": [
    "# Determinant\n",
    "det = matrix1.determinant()\n",
    "print(\"\\nDeterminant of Matrix 1:\", det)\n",
    "det1 = matrix2.determinant()\n",
    "print(\"\\nDeterminant of Matrix 2:\", det1)\n",
    "# Transpose\n",
    "transposed_matrix = matrix1.transpose()\n",
    "print(\"\\nTranspose of Matrix 1:\")\n",
    "print(transposed_matrix)\n",
    "\n",
    "transposed_matrix1 = matrix2.transpose()\n",
    "print(\"\\nTranspose of Matrix 2:\")\n",
    "print(transposed_matrix1)"
   ]
  },
  {
   "cell_type": "markdown",
   "id": "708c633f",
   "metadata": {},
   "source": [
    "# using Numpy linalg function"
   ]
  },
  {
   "cell_type": "code",
   "execution_count": 11,
   "id": "a5837890",
   "metadata": {},
   "outputs": [
    {
     "name": "stdout",
     "output_type": "stream",
     "text": [
      "Determinant of matrix1 is : \n",
      "0\n",
      "Determinant of matrix2 is : \n",
      "0\n"
     ]
    }
   ],
   "source": [
    "import numpy as np\n",
    "matrix1 = np.array([[1, 2, 3], [4, 5, 6], [7, 8, 9]])\n",
    "matrix2 = np.array([[9, 8, 7], [6, 5, 4], [3, 2, 1]])  \n",
    "\n",
    "det = np.linalg.det(matrix1)\n",
    "  \n",
    "print(\"Determinant of matrix1 is : \")\n",
    "print(int(det))\n",
    "det1 = np.linalg.det(matrix2)\n",
    "  \n",
    "print(\"Determinant of matrix2 is : \")\n",
    "print(int(det1))"
   ]
  },
  {
   "cell_type": "code",
   "execution_count": 12,
   "id": "d7875431",
   "metadata": {},
   "outputs": [],
   "source": [
    "matrix1 = np.array([[1, 2, 3], [4, 5, 6], [7, 8, 9]])\n",
    "matrix2 = np.array([[9, 8, 7], [6, 5, 4], [3, 2, 1]])"
   ]
  },
  {
   "cell_type": "code",
   "execution_count": 13,
   "id": "eca716d4",
   "metadata": {},
   "outputs": [
    {
     "data": {
      "text/plain": [
       "array([[ 30,  24,  18],\n",
       "       [ 84,  69,  54],\n",
       "       [138, 114,  90]])"
      ]
     },
     "execution_count": 13,
     "metadata": {},
     "output_type": "execute_result"
    }
   ],
   "source": [
    "matrix1.dot(matrix2)"
   ]
  },
  {
   "cell_type": "code",
   "execution_count": 14,
   "id": "013d8eb4",
   "metadata": {},
   "outputs": [
    {
     "data": {
      "text/plain": [
       "array([[1, 4, 7],\n",
       "       [2, 5, 8],\n",
       "       [3, 6, 9]])"
      ]
     },
     "execution_count": 14,
     "metadata": {},
     "output_type": "execute_result"
    }
   ],
   "source": [
    "np.transpose(matrix1)"
   ]
  },
  {
   "cell_type": "code",
   "execution_count": 15,
   "id": "fefe36ec",
   "metadata": {},
   "outputs": [
    {
     "data": {
      "text/plain": [
       "array([[9, 6, 3],\n",
       "       [8, 5, 2],\n",
       "       [7, 4, 1]])"
      ]
     },
     "execution_count": 15,
     "metadata": {},
     "output_type": "execute_result"
    }
   ],
   "source": [
    "np.transpose(matrix2)"
   ]
  },
  {
   "cell_type": "code",
   "execution_count": null,
   "id": "b03ef810",
   "metadata": {},
   "outputs": [],
   "source": []
  }
 ],
 "metadata": {
  "kernelspec": {
   "display_name": "Python 3",
   "language": "python",
   "name": "python3"
  },
  "language_info": {
   "codemirror_mode": {
    "name": "ipython",
    "version": 3
   },
   "file_extension": ".py",
   "mimetype": "text/x-python",
   "name": "python",
   "nbconvert_exporter": "python",
   "pygments_lexer": "ipython3",
   "version": "3.8.8"
  }
 },
 "nbformat": 4,
 "nbformat_minor": 5
}
